{
 "cells": [
  {
   "cell_type": "markdown",
   "id": "962f9ac0",
   "metadata": {},
   "source": [
    "# Basics"
   ]
  },
  {
   "cell_type": "code",
   "execution_count": 1,
   "id": "eefdc3df",
   "metadata": {},
   "outputs": [],
   "source": [
    "import spacy"
   ]
  },
  {
   "cell_type": "code",
   "execution_count": 2,
   "id": "83c5c186",
   "metadata": {},
   "outputs": [],
   "source": [
    "text = \"This is a sample number (555) 555-5555.\""
   ]
  },
  {
   "cell_type": "code",
   "execution_count": 3,
   "id": "26781a2a",
   "metadata": {},
   "outputs": [],
   "source": [
    "nlp = spacy.blank(\"en\")"
   ]
  },
  {
   "cell_type": "markdown",
   "id": "814216b2",
   "metadata": {},
   "source": [
    "Let's try to extract the number from the text:"
   ]
  },
  {
   "cell_type": "code",
   "execution_count": 4,
   "id": "88784cae",
   "metadata": {},
   "outputs": [],
   "source": [
    "ruler = nlp.add_pipe(\"entity_ruler\")"
   ]
  },
  {
   "cell_type": "code",
   "execution_count": 5,
   "id": "a9af275b",
   "metadata": {},
   "outputs": [],
   "source": [
    "patterns = [ {\n",
    "    \"label\": \"PHONE_NUMBER\",\n",
    "    \"pattern\": [{\n",
    "        \"TEXT\": {\n",
    "            \"REGEX\": \"((\\d){3}-(\\d){4})\"\n",
    "        }\n",
    "    }]\n",
    "}]"
   ]
  },
  {
   "cell_type": "code",
   "execution_count": 6,
   "id": "b8513869",
   "metadata": {},
   "outputs": [],
   "source": [
    "ruler.add_patterns(patterns)"
   ]
  },
  {
   "cell_type": "code",
   "execution_count": 7,
   "id": "b6726f3b",
   "metadata": {},
   "outputs": [],
   "source": [
    "doc = nlp(text)"
   ]
  },
  {
   "cell_type": "code",
   "execution_count": 8,
   "id": "298e10be",
   "metadata": {},
   "outputs": [],
   "source": [
    "for ent in doc.ents:\n",
    "    print(ent.text, ent.label_)"
   ]
  },
  {
   "cell_type": "markdown",
   "id": "429b97d1",
   "metadata": {},
   "source": [
    "Not working... REGEX only works with single token, which is highlighted as the dash present in the phone number pattern is causing the problems."
   ]
  },
  {
   "cell_type": "code",
   "execution_count": 27,
   "id": "eb1a7f21",
   "metadata": {},
   "outputs": [],
   "source": [
    "text = \"This is a sample number 5555555.\""
   ]
  },
  {
   "cell_type": "code",
   "execution_count": 28,
   "id": "005aac7d",
   "metadata": {},
   "outputs": [],
   "source": [
    "nlp = spacy.blank(\"en\")"
   ]
  },
  {
   "cell_type": "code",
   "execution_count": 29,
   "id": "070ef4f3",
   "metadata": {},
   "outputs": [],
   "source": [
    "ruler = nlp.add_pipe(\"entity_ruler\")"
   ]
  },
  {
   "cell_type": "code",
   "execution_count": 30,
   "id": "2f32a897",
   "metadata": {},
   "outputs": [],
   "source": [
    "patterns = [ {\n",
    "    \"label\": \"PHONE_NUMBER\",\n",
    "    \"pattern\": [{\n",
    "        \"TEXT\": {\n",
    "            \"REGEX\": \"((\\d){5})\"\n",
    "        }\n",
    "    }]\n",
    "}]"
   ]
  },
  {
   "cell_type": "code",
   "execution_count": 31,
   "id": "067c114e",
   "metadata": {},
   "outputs": [],
   "source": [
    "ruler.add_patterns(patterns)"
   ]
  },
  {
   "cell_type": "code",
   "execution_count": 32,
   "id": "313694a5",
   "metadata": {},
   "outputs": [],
   "source": [
    "doc = nlp(text)"
   ]
  },
  {
   "cell_type": "code",
   "execution_count": 33,
   "id": "3681ffba",
   "metadata": {},
   "outputs": [
    {
     "name": "stdout",
     "output_type": "stream",
     "text": [
      "5555555 PHONE_NUMBER\n"
     ]
    }
   ],
   "source": [
    "for ent in doc.ents:\n",
    "    print(ent.text, ent.label_)"
   ]
  },
  {
   "cell_type": "markdown",
   "id": "c6ac3768",
   "metadata": {},
   "source": [
    "# Advanced"
   ]
  },
  {
   "cell_type": "code",
   "execution_count": 34,
   "id": "ab27a98e",
   "metadata": {},
   "outputs": [],
   "source": [
    "import re"
   ]
  },
  {
   "cell_type": "code",
   "execution_count": 35,
   "id": "3d08de79",
   "metadata": {},
   "outputs": [
    {
     "name": "stdout",
     "output_type": "stream",
     "text": [
      "<re.Match object; span=(0, 11), match='Paul Newman'>\n",
      "<re.Match object; span=(39, 53), match='Paul Hollywood'>\n"
     ]
    }
   ],
   "source": [
    "text = \"Paul Newman was an American actor, but Paul Hollywood is a British TV Host. The name Paul is quite common.\"\n",
    "\n",
    "pattern = r\"Paul [A-Z]\\w+\"\n",
    "\n",
    "matches = re.finditer(pattern, text)\n",
    "\n",
    "for match in matches:\n",
    "    print (match)"
   ]
  },
  {
   "cell_type": "markdown",
   "id": "23a319ce",
   "metadata": {},
   "source": [
    "Putting the multi words tokens ner into spacy pipeline:"
   ]
  },
  {
   "cell_type": "code",
   "execution_count": 37,
   "id": "7b13750e",
   "metadata": {},
   "outputs": [],
   "source": [
    "from spacy.tokens import Span"
   ]
  },
  {
   "cell_type": "code",
   "execution_count": 50,
   "id": "db784125",
   "metadata": {},
   "outputs": [
    {
     "name": "stdout",
     "output_type": "stream",
     "text": [
      "()\n"
     ]
    }
   ],
   "source": [
    "nlp = spacy.blank(\"en\")\n",
    "doc = nlp(text)\n",
    "original_ents = list(doc.ents)\n",
    "mwt_ents = []\n",
    "print(doc.ents)\n",
    "for match in re.finditer(pattern, doc.text):\n",
    "    start, end = match.span()\n",
    "    span = doc.char_span(start, end)\n",
    "    if span is not None:\n",
    "        mwt_ents.append((span.start, span.end, span.text))\n",
    "        \n",
    "for ent in mwt_ents:\n",
    "    start, end, name = ent\n",
    "    per_ent = Span(doc, start, end, label=\"PERSON\")\n",
    "    original_ents.append(per_ent)\n",
    "doc.ents = original_ents"
   ]
  },
  {
   "cell_type": "code",
   "execution_count": 51,
   "id": "3fd0a09b",
   "metadata": {
    "scrolled": true
   },
   "outputs": [
    {
     "name": "stdout",
     "output_type": "stream",
     "text": [
      "(Paul Newman, Paul Hollywood)\n"
     ]
    }
   ],
   "source": [
    "print(doc.ents)"
   ]
  },
  {
   "cell_type": "markdown",
   "id": "08df02e7",
   "metadata": {},
   "source": [
    "Now, we have the ner functioning well, as both ents are now into the pipe:"
   ]
  },
  {
   "cell_type": "code",
   "execution_count": 52,
   "id": "8fa77225",
   "metadata": {},
   "outputs": [
    {
     "name": "stdout",
     "output_type": "stream",
     "text": [
      "Paul Newman PERSON\n",
      "Paul Hollywood PERSON\n"
     ]
    }
   ],
   "source": [
    "for ents in doc.ents:\n",
    "    print(ents.text, ents.label_)"
   ]
  },
  {
   "cell_type": "code",
   "execution_count": 46,
   "id": "6647c48c",
   "metadata": {},
   "outputs": [
    {
     "name": "stdout",
     "output_type": "stream",
     "text": [
      "[(0, 2, 'Paul Newman'), (8, 10, 'Paul Hollywood')]\n"
     ]
    }
   ],
   "source": [
    "# Now, span is represented by tokens, not by char\n",
    "print(mwt_ents)"
   ]
  },
  {
   "cell_type": "markdown",
   "id": "8ea73fb7",
   "metadata": {},
   "source": [
    "Let's use custom components here, as well:"
   ]
  },
  {
   "cell_type": "code",
   "execution_count": 65,
   "id": "9694b524",
   "metadata": {},
   "outputs": [],
   "source": [
    "from spacy.language import Language"
   ]
  },
  {
   "cell_type": "code",
   "execution_count": 66,
   "id": "f30ce5f1",
   "metadata": {},
   "outputs": [],
   "source": [
    "@Language.component(\"paul_ner\")\n",
    "def paul_ner(doc):\n",
    "    pattern = r\"Paul [A-Z]\\w+\"\n",
    "    original_ents = list(doc.ents)\n",
    "    mwt_ents = []\n",
    "    for match in re.finditer(pattern, doc.text):\n",
    "        start, end = match.span()\n",
    "        span = doc.char_span(start, end)\n",
    "        if span is not None:\n",
    "            mwt_ents.append((span.start, span.end, span.text))\n",
    "\n",
    "    for ent in mwt_ents:\n",
    "        start, end, name = ent\n",
    "        per_ent = Span(doc, start, end, label=\"PERSON\")\n",
    "        original_ents.append(per_ent)\n",
    "    doc.ents = original_ents\n",
    "    return doc"
   ]
  },
  {
   "cell_type": "code",
   "execution_count": 67,
   "id": "ff8bde1e",
   "metadata": {},
   "outputs": [
    {
     "data": {
      "text/plain": [
       "<function __main__.paul_ner(doc)>"
      ]
     },
     "execution_count": 67,
     "metadata": {},
     "output_type": "execute_result"
    }
   ],
   "source": [
    "nlp2 = spacy.blank(\"en\")\n",
    "nlp2.add_pipe(\"paul_ner\")"
   ]
  },
  {
   "cell_type": "code",
   "execution_count": 68,
   "id": "0d191337",
   "metadata": {},
   "outputs": [
    {
     "name": "stdout",
     "output_type": "stream",
     "text": [
      "(Paul Newman, Paul Hollywood)\n"
     ]
    }
   ],
   "source": [
    "doc2 = nlp2(text)\n",
    "print(doc2.ents)"
   ]
  },
  {
   "cell_type": "code",
   "execution_count": 69,
   "id": "c77ff8a8",
   "metadata": {},
   "outputs": [
    {
     "data": {
      "text/plain": [
       "{'summary': {'paul_ner': {'assigns': [],\n",
       "   'requires': [],\n",
       "   'scores': [],\n",
       "   'retokenizes': False}},\n",
       " 'problems': {'paul_ner': []},\n",
       " 'attrs': {}}"
      ]
     },
     "execution_count": 69,
     "metadata": {},
     "output_type": "execute_result"
    }
   ],
   "source": [
    "nlp2.analyze_pipes()"
   ]
  }
 ],
 "metadata": {
  "kernelspec": {
   "display_name": "Python 3 (ipykernel)",
   "language": "python",
   "name": "python3"
  },
  "language_info": {
   "codemirror_mode": {
    "name": "ipython",
    "version": 3
   },
   "file_extension": ".py",
   "mimetype": "text/x-python",
   "name": "python",
   "nbconvert_exporter": "python",
   "pygments_lexer": "ipython3",
   "version": "3.11.5"
  }
 },
 "nbformat": 4,
 "nbformat_minor": 5
}
