{
 "cells": [
  {
   "cell_type": "markdown",
   "id": "f1540637",
   "metadata": {},
   "source": [
    "Word vectors:"
   ]
  },
  {
   "cell_type": "code",
   "execution_count": 1,
   "id": "828ec8e2",
   "metadata": {},
   "outputs": [],
   "source": [
    "import spacy"
   ]
  },
  {
   "cell_type": "code",
   "execution_count": 5,
   "id": "49fe4bde",
   "metadata": {},
   "outputs": [
    {
     "name": "stdout",
     "output_type": "stream",
     "text": [
      "Collecting en-core-web-md==3.7.1\n",
      "  Downloading https://github.com/explosion/spacy-models/releases/download/en_core_web_md-3.7.1/en_core_web_md-3.7.1-py3-none-any.whl (42.8 MB)\n",
      "\u001b[2K     \u001b[90m━━━━━━━━━━━━━━━━━━━━━━━━━━━━━━━━━━━━━━━━\u001b[0m \u001b[32m42.8/42.8 MB\u001b[0m \u001b[31m8.8 MB/s\u001b[0m eta \u001b[36m0:00:00\u001b[0m00:01\u001b[0m00:01\u001b[0m\n",
      "\u001b[?25hRequirement already satisfied: spacy<3.8.0,>=3.7.2 in /Users/gabilio/anaconda3/lib/python3.11/site-packages (from en-core-web-md==3.7.1) (3.7.4)\n",
      "Requirement already satisfied: spacy-legacy<3.1.0,>=3.0.11 in /Users/gabilio/anaconda3/lib/python3.11/site-packages (from spacy<3.8.0,>=3.7.2->en-core-web-md==3.7.1) (3.0.12)\n",
      "Requirement already satisfied: spacy-loggers<2.0.0,>=1.0.0 in /Users/gabilio/anaconda3/lib/python3.11/site-packages (from spacy<3.8.0,>=3.7.2->en-core-web-md==3.7.1) (1.0.5)\n",
      "Requirement already satisfied: murmurhash<1.1.0,>=0.28.0 in /Users/gabilio/anaconda3/lib/python3.11/site-packages (from spacy<3.8.0,>=3.7.2->en-core-web-md==3.7.1) (1.0.10)\n",
      "Requirement already satisfied: cymem<2.1.0,>=2.0.2 in /Users/gabilio/anaconda3/lib/python3.11/site-packages (from spacy<3.8.0,>=3.7.2->en-core-web-md==3.7.1) (2.0.8)\n",
      "Requirement already satisfied: preshed<3.1.0,>=3.0.2 in /Users/gabilio/anaconda3/lib/python3.11/site-packages (from spacy<3.8.0,>=3.7.2->en-core-web-md==3.7.1) (3.0.9)\n",
      "Requirement already satisfied: thinc<8.3.0,>=8.2.2 in /Users/gabilio/anaconda3/lib/python3.11/site-packages (from spacy<3.8.0,>=3.7.2->en-core-web-md==3.7.1) (8.2.3)\n",
      "Requirement already satisfied: wasabi<1.2.0,>=0.9.1 in /Users/gabilio/anaconda3/lib/python3.11/site-packages (from spacy<3.8.0,>=3.7.2->en-core-web-md==3.7.1) (1.1.2)\n",
      "Requirement already satisfied: srsly<3.0.0,>=2.4.3 in /Users/gabilio/anaconda3/lib/python3.11/site-packages (from spacy<3.8.0,>=3.7.2->en-core-web-md==3.7.1) (2.4.8)\n",
      "Requirement already satisfied: catalogue<2.1.0,>=2.0.6 in /Users/gabilio/anaconda3/lib/python3.11/site-packages (from spacy<3.8.0,>=3.7.2->en-core-web-md==3.7.1) (2.0.10)\n",
      "Requirement already satisfied: weasel<0.4.0,>=0.1.0 in /Users/gabilio/anaconda3/lib/python3.11/site-packages (from spacy<3.8.0,>=3.7.2->en-core-web-md==3.7.1) (0.3.4)\n",
      "Requirement already satisfied: typer<0.10.0,>=0.3.0 in /Users/gabilio/anaconda3/lib/python3.11/site-packages (from spacy<3.8.0,>=3.7.2->en-core-web-md==3.7.1) (0.9.4)\n",
      "Requirement already satisfied: smart-open<7.0.0,>=5.2.1 in /Users/gabilio/anaconda3/lib/python3.11/site-packages (from spacy<3.8.0,>=3.7.2->en-core-web-md==3.7.1) (5.2.1)\n",
      "Requirement already satisfied: tqdm<5.0.0,>=4.38.0 in /Users/gabilio/anaconda3/lib/python3.11/site-packages (from spacy<3.8.0,>=3.7.2->en-core-web-md==3.7.1) (4.65.0)\n",
      "Requirement already satisfied: requests<3.0.0,>=2.13.0 in /Users/gabilio/anaconda3/lib/python3.11/site-packages (from spacy<3.8.0,>=3.7.2->en-core-web-md==3.7.1) (2.31.0)\n",
      "Requirement already satisfied: pydantic!=1.8,!=1.8.1,<3.0.0,>=1.7.4 in /Users/gabilio/anaconda3/lib/python3.11/site-packages (from spacy<3.8.0,>=3.7.2->en-core-web-md==3.7.1) (2.6.3)\n",
      "Requirement already satisfied: jinja2 in /Users/gabilio/anaconda3/lib/python3.11/site-packages (from spacy<3.8.0,>=3.7.2->en-core-web-md==3.7.1) (3.1.2)\n",
      "Requirement already satisfied: setuptools in /Users/gabilio/anaconda3/lib/python3.11/site-packages (from spacy<3.8.0,>=3.7.2->en-core-web-md==3.7.1) (68.0.0)\n",
      "Requirement already satisfied: packaging>=20.0 in /Users/gabilio/anaconda3/lib/python3.11/site-packages (from spacy<3.8.0,>=3.7.2->en-core-web-md==3.7.1) (23.1)\n",
      "Requirement already satisfied: langcodes<4.0.0,>=3.2.0 in /Users/gabilio/anaconda3/lib/python3.11/site-packages (from spacy<3.8.0,>=3.7.2->en-core-web-md==3.7.1) (3.4.0)\n",
      "Requirement already satisfied: numpy>=1.19.0 in /Users/gabilio/anaconda3/lib/python3.11/site-packages (from spacy<3.8.0,>=3.7.2->en-core-web-md==3.7.1) (1.24.3)\n",
      "Requirement already satisfied: language-data>=1.2 in /Users/gabilio/anaconda3/lib/python3.11/site-packages (from langcodes<4.0.0,>=3.2.0->spacy<3.8.0,>=3.7.2->en-core-web-md==3.7.1) (1.2.0)\n",
      "Requirement already satisfied: annotated-types>=0.4.0 in /Users/gabilio/anaconda3/lib/python3.11/site-packages (from pydantic!=1.8,!=1.8.1,<3.0.0,>=1.7.4->spacy<3.8.0,>=3.7.2->en-core-web-md==3.7.1) (0.6.0)\n",
      "Requirement already satisfied: pydantic-core==2.16.3 in /Users/gabilio/anaconda3/lib/python3.11/site-packages (from pydantic!=1.8,!=1.8.1,<3.0.0,>=1.7.4->spacy<3.8.0,>=3.7.2->en-core-web-md==3.7.1) (2.16.3)\n",
      "Requirement already satisfied: typing-extensions>=4.6.1 in /Users/gabilio/anaconda3/lib/python3.11/site-packages (from pydantic!=1.8,!=1.8.1,<3.0.0,>=1.7.4->spacy<3.8.0,>=3.7.2->en-core-web-md==3.7.1) (4.7.1)\n",
      "Requirement already satisfied: charset-normalizer<4,>=2 in /Users/gabilio/anaconda3/lib/python3.11/site-packages (from requests<3.0.0,>=2.13.0->spacy<3.8.0,>=3.7.2->en-core-web-md==3.7.1) (2.0.4)\n",
      "Requirement already satisfied: idna<4,>=2.5 in /Users/gabilio/anaconda3/lib/python3.11/site-packages (from requests<3.0.0,>=2.13.0->spacy<3.8.0,>=3.7.2->en-core-web-md==3.7.1) (3.4)\n",
      "Requirement already satisfied: urllib3<3,>=1.21.1 in /Users/gabilio/anaconda3/lib/python3.11/site-packages (from requests<3.0.0,>=2.13.0->spacy<3.8.0,>=3.7.2->en-core-web-md==3.7.1) (1.26.16)\n",
      "Requirement already satisfied: certifi>=2017.4.17 in /Users/gabilio/anaconda3/lib/python3.11/site-packages (from requests<3.0.0,>=2.13.0->spacy<3.8.0,>=3.7.2->en-core-web-md==3.7.1) (2023.11.17)\n",
      "Requirement already satisfied: blis<0.8.0,>=0.7.8 in /Users/gabilio/anaconda3/lib/python3.11/site-packages (from thinc<8.3.0,>=8.2.2->spacy<3.8.0,>=3.7.2->en-core-web-md==3.7.1) (0.7.11)\n",
      "Requirement already satisfied: confection<1.0.0,>=0.0.1 in /Users/gabilio/anaconda3/lib/python3.11/site-packages (from thinc<8.3.0,>=8.2.2->spacy<3.8.0,>=3.7.2->en-core-web-md==3.7.1) (0.1.4)\n",
      "Requirement already satisfied: click<9.0.0,>=7.1.1 in /Users/gabilio/anaconda3/lib/python3.11/site-packages (from typer<0.10.0,>=0.3.0->spacy<3.8.0,>=3.7.2->en-core-web-md==3.7.1) (8.0.4)\n",
      "Requirement already satisfied: cloudpathlib<0.17.0,>=0.7.0 in /Users/gabilio/anaconda3/lib/python3.11/site-packages (from weasel<0.4.0,>=0.1.0->spacy<3.8.0,>=3.7.2->en-core-web-md==3.7.1) (0.16.0)\n",
      "Requirement already satisfied: MarkupSafe>=2.0 in /Users/gabilio/anaconda3/lib/python3.11/site-packages (from jinja2->spacy<3.8.0,>=3.7.2->en-core-web-md==3.7.1) (2.1.1)\n",
      "Requirement already satisfied: marisa-trie>=0.7.7 in /Users/gabilio/anaconda3/lib/python3.11/site-packages (from language-data>=1.2->langcodes<4.0.0,>=3.2.0->spacy<3.8.0,>=3.7.2->en-core-web-md==3.7.1) (1.1.0)\n",
      "Installing collected packages: en-core-web-md\n",
      "Successfully installed en-core-web-md-3.7.1\n",
      "\u001b[38;5;2m✔ Download and installation successful\u001b[0m\n",
      "You can now load the package via spacy.load('en_core_web_md')\n"
     ]
    }
   ],
   "source": [
    "!python -m spacy download en_core_web_md"
   ]
  },
  {
   "cell_type": "code",
   "execution_count": 6,
   "id": "286ffcdd",
   "metadata": {},
   "outputs": [],
   "source": [
    "nlp = spacy.load(\"en_core_web_md\")"
   ]
  },
  {
   "cell_type": "code",
   "execution_count": 10,
   "id": "3c9f9d7e",
   "metadata": {},
   "outputs": [],
   "source": [
    "with open(\"../data/wiki_us.txt\", \"r\") as f:\n",
    "    text = f.read()"
   ]
  },
  {
   "cell_type": "code",
   "execution_count": 11,
   "id": "20d231f8",
   "metadata": {},
   "outputs": [],
   "source": [
    "doc = nlp(text)"
   ]
  },
  {
   "cell_type": "code",
   "execution_count": 13,
   "id": "ce35f3c7",
   "metadata": {},
   "outputs": [
    {
     "data": {
      "text/plain": [
       "The United States of America (U.S.A. or USA), commonly known as the United States (U.S. or US) or America, is a country primarily located in North America. It consists of 50 states, a federal district, five major unincorporated territories, 326 Indian reservations, and some minor possessions.[j] At 3.8 million square miles (9.8 million square kilometers), it is the world's third- or fourth-largest country by total area.[d] The United States shares significant land borders with Canada to the north and Mexico to the south, as well as limited maritime borders with the Bahamas, Cuba, and Russia.[22] With a population of more than 331 million people, it is the third most populous country in the world. The national capital is Washington, D.C., and the most populous city is New York.\n",
       "\n",
       "Paleo-Indians migrated from Siberia to the North American mainland at least 12,000 years ago, and European colonization began in the 16th century. The United States emerged from the thirteen British colonies established along the East Coast. Disputes over taxation and political representation with Great Britain led to the American Revolutionary War (1775–1783), which established independence. In the late 18th century, the U.S. began expanding across North America, gradually obtaining new territories, sometimes through war, frequently displacing Native Americans, and admitting new states; by 1848, the United States spanned the continent. Slavery was legal in the southern United States until the second half of the 19th century when the American Civil War led to its abolition. The Spanish–American War and World War I established the U.S. as a world power, a status confirmed by the outcome of World War II.\n",
       "\n",
       "During the Cold War, the United States fought the Korean War and the Vietnam War but avoided direct military conflict with the Soviet Union. The two superpowers competed in the Space Race, culminating in the 1969 spaceflight that first landed humans on the Moon. The Soviet Union's dissolution in 1991 ended the Cold War, leaving the United States as the world's sole superpower.\n",
       "\n",
       "The United States is a federal republic and a representative democracy with three separate branches of government, including a bicameral legislature. It is a founding member of the United Nations, World Bank, International Monetary Fund, Organization of American States, NATO, and other international organizations. It is a permanent member of the United Nations Security Council. Considered a melting pot of cultures and ethnicities, its population has been profoundly shaped by centuries of immigration. The country ranks high in international measures of economic freedom, quality of life, education, and human rights, and has low levels of perceived corruption. However, the country has received criticism concerning inequality related to race, wealth and income, the use of capital punishment, high incarceration rates, and lack of universal health care.\n",
       "\n",
       "The United States is a highly developed country, accounts for approximately a quarter of global GDP, and is the world's largest economy. By value, the United States is the world's largest importer and the second-largest exporter of goods. Although its population is only 4.2% of the world's total, it holds 29.4% of the total wealth in the world, the largest share held by any country. Making up more than a third of global military spending, it is the foremost military power in the world; and it is a leading political, cultural, and scientific force internationally.[23]"
      ]
     },
     "execution_count": 13,
     "metadata": {},
     "output_type": "execute_result"
    }
   ],
   "source": [
    "doc"
   ]
  },
  {
   "cell_type": "code",
   "execution_count": 17,
   "id": "52d0f99d",
   "metadata": {},
   "outputs": [
    {
     "data": {
      "text/plain": [
       "The United States of America (U.S.A. or USA), commonly known as the United States (U.S. or US) or America, is a country primarily located in North America."
      ]
     },
     "execution_count": 17,
     "metadata": {},
     "output_type": "execute_result"
    }
   ],
   "source": [
    "sentence1 = list(doc.sents)[0]\n",
    "sentence1"
   ]
  },
  {
   "cell_type": "markdown",
   "id": "7c6bb486",
   "metadata": {},
   "source": [
    "Text similarity:"
   ]
  },
  {
   "cell_type": "code",
   "execution_count": 29,
   "id": "d699fa1a",
   "metadata": {},
   "outputs": [
    {
     "name": "stdout",
     "output_type": "stream",
     "text": [
      "['Brazda', 'Agrario', 'Tilian', 'Pugal', 'Colombière', 'Paraganas', 'Guanaco', 'pezuela', 'patagonia', 'Uruguayo']\n"
     ]
    }
   ],
   "source": [
    "import numpy as np\n",
    "word1 = \"Brazil\"\n",
    "\n",
    "ms = nlp.vocab.vectors.most_similar(\n",
    "    np.asarray([nlp.vocab.vectors[nlp.vocab.strings[word1]]]), \n",
    "    n=10)\n",
    "words = [nlp.vocab.strings[w] for w in ms[0][0]]\n",
    "distances = ms[2]\n",
    "print(words)"
   ]
  },
  {
   "cell_type": "code",
   "execution_count": 36,
   "id": "ec5e1849",
   "metadata": {},
   "outputs": [
    {
     "data": {
      "text/plain": [
       "array([-7.2681e+00, -8.5717e-01,  5.8105e+00,  1.9771e+00,  8.8147e+00,\n",
       "       -5.8579e+00,  3.7143e+00,  3.5850e+00,  4.7987e+00, -4.4251e+00,\n",
       "        1.7461e+00, -3.7296e+00, -5.1407e+00, -1.0792e+00, -2.5555e+00,\n",
       "        3.0755e+00,  5.0141e+00,  5.8525e+00,  7.3378e+00, -2.7689e+00,\n",
       "       -5.1641e+00, -1.9879e+00,  2.9782e+00,  2.1024e+00,  4.4306e+00,\n",
       "        8.4355e-01, -6.8742e+00, -4.2949e+00, -1.7294e-01,  3.6074e+00,\n",
       "        8.4379e-01,  3.3419e-01, -4.8147e+00,  3.5683e-02, -1.3721e+01,\n",
       "       -4.6528e+00, -1.4021e+00,  4.8342e-01,  1.2549e+00, -4.0644e+00,\n",
       "        3.3278e+00, -2.1590e-01, -5.1786e+00,  3.5360e+00, -3.1575e+00,\n",
       "       -3.5273e+00, -3.6753e+00,  1.5863e+00, -8.1594e+00, -3.4657e+00,\n",
       "        1.5262e+00,  4.8135e+00, -3.8428e+00, -3.9082e+00,  6.7549e-01,\n",
       "       -3.5787e-01, -1.7806e+00,  3.5284e+00, -5.1114e-02, -9.7150e-01,\n",
       "       -9.0553e-01, -1.5570e+00,  1.2038e+00,  4.7708e+00,  9.8561e-01,\n",
       "       -2.3186e+00, -7.4899e+00, -9.5389e+00,  8.5572e+00,  2.7420e+00,\n",
       "       -3.6270e+00,  2.7456e+00, -6.9574e+00, -1.7190e+00, -2.9145e+00,\n",
       "        1.1838e+00,  3.7864e+00,  2.0413e+00, -3.5808e+00,  1.4319e+00,\n",
       "        2.0528e-01, -7.0640e-01, -5.3556e+00, -2.5911e+00,  4.4922e+00,\n",
       "        1.6574e+00,  3.9794e+00, -4.3560e+00, -2.7266e+00,  1.9581e+00,\n",
       "       -3.4842e+00, -3.9674e+00,  3.2690e+00,  6.6683e-01,  3.9837e+00,\n",
       "       -6.5997e+00,  4.1630e+00,  8.0338e+00,  3.8102e-01,  8.2656e+00,\n",
       "        9.7061e-01, -5.0807e+00,  4.9522e+00,  7.5018e+00,  3.8305e+00,\n",
       "       -3.3233e+00,  4.9126e+00,  2.4189e-01,  3.8218e+00, -3.9717e+00,\n",
       "        2.4691e+00,  1.3721e+01, -8.9664e+00,  1.0610e+01,  6.9425e-01,\n",
       "       -1.1082e+01, -5.6883e+00,  2.3287e+00,  1.6451e+00,  3.6006e+00,\n",
       "        1.2588e-01, -6.1956e+00,  1.1455e+01,  5.6682e+00, -5.0251e-01,\n",
       "       -9.8515e-01,  8.8902e-02, -4.0213e+00,  3.6134e+00, -9.0936e+00,\n",
       "       -1.4555e+01, -2.5591e+00,  4.0959e+00, -3.5929e-01,  1.0219e+00,\n",
       "        3.9402e+00,  8.0495e-01, -3.6023e+00,  2.6394e+00, -1.5258e-01,\n",
       "       -2.6182e+00, -2.6268e-01, -2.1610e+00,  2.3950e+00,  6.8842e+00,\n",
       "        3.6034e+00,  1.8058e+00,  2.4528e+00,  4.4088e+00, -1.0598e+00,\n",
       "        6.4964e+00,  5.9196e+00, -1.0261e+00, -1.7013e+00, -4.4151e+00,\n",
       "        4.3043e+00, -1.7138e+00, -4.6690e+00, -5.5212e-01,  5.3995e+00,\n",
       "        1.8311e+00, -3.5820e-01, -3.6578e-01, -2.8578e+00, -6.4639e+00,\n",
       "       -3.2155e+00,  6.7083e-01, -1.2800e+00,  1.2782e+00,  7.8274e-01,\n",
       "        1.9839e-01, -1.4163e+00,  2.1184e+00,  1.5021e+00, -1.8212e+00,\n",
       "        1.6629e+00,  4.0354e+00, -4.4648e+00, -3.4897e+00, -2.5765e+00,\n",
       "       -3.6317e+00, -4.1619e-02,  4.8660e-01,  2.0712e+00, -1.9166e+00,\n",
       "       -3.4045e+00, -7.6609e+00, -2.1940e+00, -2.3919e-03,  8.4900e-01,\n",
       "        1.3921e+00, -5.7830e+00,  4.4739e+00,  1.0642e+00,  5.7864e+00,\n",
       "        3.4643e+00, -5.9169e+00, -2.6925e+00, -1.1271e-01, -6.0462e+00,\n",
       "        3.9285e+00, -3.0423e+00, -6.9939e-02,  2.2826e-01,  8.0214e+00,\n",
       "        2.2098e+00, -1.1049e+01,  7.6001e-02, -1.5970e+00,  2.0524e-01,\n",
       "        2.8063e+00,  3.5245e+00, -3.9300e+00, -9.7995e-01,  4.0248e+00,\n",
       "        1.8447e+00, -2.0452e+00,  1.1419e+00, -4.4600e-01, -9.5551e-01,\n",
       "       -1.0224e+00,  5.9224e+00, -6.1688e+00, -8.3840e-01, -7.9102e+00,\n",
       "       -8.9575e-02, -2.7741e-01,  4.2703e+00,  4.0212e+00, -1.1166e-01,\n",
       "        2.5119e+00, -5.9635e+00, -1.2320e+00,  2.8199e-01, -4.1062e+00,\n",
       "       -6.2923e-01, -5.2420e-01,  2.5213e+00, -3.5094e+00,  6.4333e+00,\n",
       "        7.9466e+00, -3.3883e+00,  5.2535e+00,  9.4524e-02, -3.3336e+00,\n",
       "        5.9621e+00, -1.0794e+00, -6.0850e+00, -3.6071e+00, -3.8496e-01,\n",
       "        7.6137e+00, -9.1081e+00, -6.0037e+00, -2.4735e+00, -6.5050e-01,\n",
       "       -6.3021e+00,  8.5783e+00,  1.7250e-01,  4.3631e+00, -9.3439e+00,\n",
       "        2.0984e-01,  7.6900e-01,  1.0763e+01,  4.4598e-01, -3.6584e+00,\n",
       "       -3.0992e+00, -3.8868e+00,  4.3337e+00, -5.8037e+00, -1.1337e+00,\n",
       "       -6.1562e+00,  3.1820e-01, -1.0612e+00, -1.4809e+00,  6.0373e+00,\n",
       "        4.6015e-01, -1.5530e+00, -1.0562e+00,  5.8618e-01,  3.4431e+00,\n",
       "        4.5542e+00, -3.1881e+00, -1.5832e+00,  3.0859e+00,  1.3061e+00,\n",
       "       -8.0091e+00,  7.7996e+00, -5.0644e+00,  8.8719e+00,  7.2337e-01,\n",
       "       -1.2350e+00,  1.6209e+00,  7.8994e+00,  1.0741e+01,  8.1158e-01,\n",
       "        9.0156e+00, -1.5913e+00, -5.3166e+00,  3.5032e-01, -2.8850e+00],\n",
       "      dtype=float32)"
      ]
     },
     "execution_count": 36,
     "metadata": {},
     "output_type": "execute_result"
    }
   ],
   "source": [
    "sentence1[0].vector"
   ]
  },
  {
   "cell_type": "code",
   "execution_count": 46,
   "id": "eca896af",
   "metadata": {},
   "outputs": [],
   "source": [
    "doc1 = nlp(\"I like salty fries and hamburguers.\")\n",
    "doc2 = nlp(\"Fast food tastes very good.\")"
   ]
  },
  {
   "cell_type": "code",
   "execution_count": 47,
   "id": "37ed2569",
   "metadata": {},
   "outputs": [
    {
     "data": {
      "text/plain": [
       "0.6786707181458879"
      ]
     },
     "execution_count": 47,
     "metadata": {},
     "output_type": "execute_result"
    }
   ],
   "source": [
    "doc1.similarity(doc2)"
   ]
  },
  {
   "cell_type": "code",
   "execution_count": 48,
   "id": "a3a99610",
   "metadata": {},
   "outputs": [],
   "source": [
    "doc3 = nlp(\"The Empire State Building is in NY.\")"
   ]
  },
  {
   "cell_type": "code",
   "execution_count": 49,
   "id": "d85f7de0",
   "metadata": {},
   "outputs": [
    {
     "data": {
      "text/plain": [
       "(0.18028515787966767, 0.26747931997739643)"
      ]
     },
     "execution_count": 49,
     "metadata": {},
     "output_type": "execute_result"
    }
   ],
   "source": [
    "doc1.similarity(doc3), doc3.similarity(doc2)"
   ]
  },
  {
   "cell_type": "code",
   "execution_count": 50,
   "id": "d88a245d",
   "metadata": {},
   "outputs": [],
   "source": [
    "doc4 = nlp(\"I enjoy oranges.\")\n",
    "doc5 = nlp(\"I enjoy apples.\")"
   ]
  },
  {
   "cell_type": "code",
   "execution_count": 51,
   "id": "348e7e8f",
   "metadata": {},
   "outputs": [
    {
     "data": {
      "text/plain": [
       "0.977570143948367"
      ]
     },
     "execution_count": 51,
     "metadata": {},
     "output_type": "execute_result"
    }
   ],
   "source": [
    "doc4.similarity(doc5)"
   ]
  },
  {
   "cell_type": "code",
   "execution_count": 55,
   "id": "60fcc324",
   "metadata": {},
   "outputs": [],
   "source": [
    "doc6 = nlp(\"I enjoy videogames.\")"
   ]
  },
  {
   "cell_type": "code",
   "execution_count": 56,
   "id": "37e2d5c2",
   "metadata": {},
   "outputs": [
    {
     "data": {
      "text/plain": [
       "(0.9082492682563673, 0.9152734604993193)"
      ]
     },
     "execution_count": 56,
     "metadata": {},
     "output_type": "execute_result"
    }
   ],
   "source": [
    "doc4.similarity(doc6), doc5.similarity(doc6)"
   ]
  },
  {
   "cell_type": "markdown",
   "id": "0b57598a",
   "metadata": {},
   "source": [
    "Pipelines:"
   ]
  },
  {
   "cell_type": "code",
   "execution_count": 61,
   "id": "beca9ebb",
   "metadata": {},
   "outputs": [],
   "source": [
    "# blank pipeline\n",
    "nlp = spacy.blank(\"en\")"
   ]
  },
  {
   "cell_type": "code",
   "execution_count": 62,
   "id": "59b0db64",
   "metadata": {},
   "outputs": [
    {
     "data": {
      "text/plain": [
       "<spacy.pipeline.sentencizer.Sentencizer at 0x1791ea150>"
      ]
     },
     "execution_count": 62,
     "metadata": {},
     "output_type": "execute_result"
    }
   ],
   "source": [
    "# adding pipe to the blank pipeline\n",
    "nlp.add_pipe(\"sentencizer\")"
   ]
  },
  {
   "cell_type": "code",
   "execution_count": 63,
   "id": "8ccee4e3",
   "metadata": {},
   "outputs": [
    {
     "data": {
      "text/plain": [
       "{'summary': {'sentencizer': {'assigns': ['token.is_sent_start', 'doc.sents'],\n",
       "   'requires': [],\n",
       "   'scores': ['sents_f', 'sents_p', 'sents_r'],\n",
       "   'retokenizes': False}},\n",
       " 'problems': {'sentencizer': []},\n",
       " 'attrs': {'doc.sents': {'assigns': ['sentencizer'], 'requires': []},\n",
       "  'token.is_sent_start': {'assigns': ['sentencizer'], 'requires': []}}}"
      ]
     },
     "execution_count": 63,
     "metadata": {},
     "output_type": "execute_result"
    }
   ],
   "source": [
    "nlp.analyze_pipes()"
   ]
  },
  {
   "cell_type": "code",
   "execution_count": 65,
   "id": "04698b48",
   "metadata": {},
   "outputs": [],
   "source": [
    "nlp2 = spacy.load(\"en_core_web_md\")"
   ]
  },
  {
   "cell_type": "code",
   "execution_count": 66,
   "id": "361dba77",
   "metadata": {},
   "outputs": [
    {
     "data": {
      "text/plain": [
       "{'summary': {'tok2vec': {'assigns': ['doc.tensor'],\n",
       "   'requires': [],\n",
       "   'scores': [],\n",
       "   'retokenizes': False},\n",
       "  'tagger': {'assigns': ['token.tag'],\n",
       "   'requires': [],\n",
       "   'scores': ['tag_acc'],\n",
       "   'retokenizes': False},\n",
       "  'parser': {'assigns': ['token.dep',\n",
       "    'token.head',\n",
       "    'token.is_sent_start',\n",
       "    'doc.sents'],\n",
       "   'requires': [],\n",
       "   'scores': ['dep_uas',\n",
       "    'dep_las',\n",
       "    'dep_las_per_type',\n",
       "    'sents_p',\n",
       "    'sents_r',\n",
       "    'sents_f'],\n",
       "   'retokenizes': False},\n",
       "  'attribute_ruler': {'assigns': [],\n",
       "   'requires': [],\n",
       "   'scores': [],\n",
       "   'retokenizes': False},\n",
       "  'lemmatizer': {'assigns': ['token.lemma'],\n",
       "   'requires': [],\n",
       "   'scores': ['lemma_acc'],\n",
       "   'retokenizes': False},\n",
       "  'ner': {'assigns': ['doc.ents', 'token.ent_iob', 'token.ent_type'],\n",
       "   'requires': [],\n",
       "   'scores': ['ents_f', 'ents_p', 'ents_r', 'ents_per_type'],\n",
       "   'retokenizes': False}},\n",
       " 'problems': {'tok2vec': [],\n",
       "  'tagger': [],\n",
       "  'parser': [],\n",
       "  'attribute_ruler': [],\n",
       "  'lemmatizer': [],\n",
       "  'ner': []},\n",
       " 'attrs': {'token.tag': {'assigns': ['tagger'], 'requires': []},\n",
       "  'token.lemma': {'assigns': ['lemmatizer'], 'requires': []},\n",
       "  'doc.ents': {'assigns': ['ner'], 'requires': []},\n",
       "  'token.ent_type': {'assigns': ['ner'], 'requires': []},\n",
       "  'token.is_sent_start': {'assigns': ['parser'], 'requires': []},\n",
       "  'token.dep': {'assigns': ['parser'], 'requires': []},\n",
       "  'token.ent_iob': {'assigns': ['ner'], 'requires': []},\n",
       "  'doc.sents': {'assigns': ['parser'], 'requires': []},\n",
       "  'token.head': {'assigns': ['parser'], 'requires': []},\n",
       "  'doc.tensor': {'assigns': ['tok2vec'], 'requires': []}}}"
      ]
     },
     "execution_count": 66,
     "metadata": {},
     "output_type": "execute_result"
    }
   ],
   "source": [
    "nlp2.analyze_pipes()"
   ]
  },
  {
   "cell_type": "markdown",
   "id": "9fef6eab",
   "metadata": {},
   "source": [
    "A much more complex pipeline in comparison to the blank one that we've created."
   ]
  }
 ],
 "metadata": {
  "kernelspec": {
   "display_name": "Python 3 (ipykernel)",
   "language": "python",
   "name": "python3"
  },
  "language_info": {
   "codemirror_mode": {
    "name": "ipython",
    "version": 3
   },
   "file_extension": ".py",
   "mimetype": "text/x-python",
   "name": "python",
   "nbconvert_exporter": "python",
   "pygments_lexer": "ipython3",
   "version": "3.11.5"
  }
 },
 "nbformat": 4,
 "nbformat_minor": 5
}
