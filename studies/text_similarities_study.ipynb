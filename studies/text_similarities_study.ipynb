{
 "cells": [
  {
   "cell_type": "code",
   "execution_count": 2,
   "id": "79599119",
   "metadata": {},
   "outputs": [],
   "source": [
    "import spacy"
   ]
  },
  {
   "cell_type": "code",
   "execution_count": 3,
   "id": "adb0f1d2",
   "metadata": {},
   "outputs": [],
   "source": [
    "nlp = spacy.load(\"en_core_web_lg\")"
   ]
  },
  {
   "cell_type": "code",
   "execution_count": 4,
   "id": "db9921ce",
   "metadata": {},
   "outputs": [
    {
     "data": {
      "text/plain": [
       "<spacy.lang.en.English at 0x124d4b290>"
      ]
     },
     "execution_count": 4,
     "metadata": {},
     "output_type": "execute_result"
    }
   ],
   "source": [
    "nlp"
   ]
  },
  {
   "cell_type": "code",
   "execution_count": 5,
   "id": "ef8e74d1",
   "metadata": {},
   "outputs": [],
   "source": [
    "w1 = \"red\"\n",
    "w2 = \"purple\"\n",
    "\n",
    "w1 = nlp.vocab[w1]\n",
    "w2 = nlp.vocab[w2]"
   ]
  },
  {
   "cell_type": "code",
   "execution_count": 6,
   "id": "dd22b3d1",
   "metadata": {},
   "outputs": [
    {
     "data": {
      "text/plain": [
       "0.7751935124397278"
      ]
     },
     "execution_count": 6,
     "metadata": {},
     "output_type": "execute_result"
    }
   ],
   "source": [
    "w1.similarity(w2)"
   ]
  },
  {
   "cell_type": "markdown",
   "id": "e94187b7",
   "metadata": {},
   "source": [
    "Similarity is based on the proximity of the words in the words vector space, that is, the meaning of the words. One example of this is the similarity between two words that are written very similarly, but aren't related at all in respect of the meaning."
   ]
  },
  {
   "cell_type": "code",
   "execution_count": 7,
   "id": "b09e5553",
   "metadata": {},
   "outputs": [],
   "source": [
    "w1 = \"weather\"\n",
    "w2 = \"whether\"\n",
    "\n",
    "w1 = nlp.vocab[w1] # it could be w1 = nlp(w1) as well\n",
    "w2 = nlp.vocab[w2]"
   ]
  },
  {
   "cell_type": "code",
   "execution_count": 8,
   "id": "55eef244",
   "metadata": {},
   "outputs": [
    {
     "data": {
      "text/plain": [
       "0.35769522190093994"
      ]
     },
     "execution_count": 8,
     "metadata": {},
     "output_type": "execute_result"
    }
   ],
   "source": [
    "w1.similarity(w2)"
   ]
  },
  {
   "cell_type": "markdown",
   "id": "54012ffb",
   "metadata": {},
   "source": [
    "We can use sentences as well:"
   ]
  },
  {
   "cell_type": "code",
   "execution_count": 9,
   "id": "dc5ebc21",
   "metadata": {},
   "outputs": [],
   "source": [
    "s1 = nlp(\"I believe in the God of the Bible\")\n",
    "s2 = nlp(\"I trust in a higher power of Christianity\")\n",
    "s3 = nlp(\"I am going to drink a beer this weekend\")"
   ]
  },
  {
   "cell_type": "code",
   "execution_count": 10,
   "id": "b3fcc92c",
   "metadata": {},
   "outputs": [
    {
     "data": {
      "text/plain": [
       "0.8668601730004837"
      ]
     },
     "execution_count": 10,
     "metadata": {},
     "output_type": "execute_result"
    }
   ],
   "source": [
    "s1.similarity(s2)"
   ]
  },
  {
   "cell_type": "code",
   "execution_count": 11,
   "id": "5dff021a",
   "metadata": {},
   "outputs": [
    {
     "data": {
      "text/plain": [
       "0.42744208274325096"
      ]
     },
     "execution_count": 11,
     "metadata": {},
     "output_type": "execute_result"
    }
   ],
   "source": [
    "s1.similarity(s3)"
   ]
  },
  {
   "cell_type": "code",
   "execution_count": 12,
   "id": "6ef687ee",
   "metadata": {},
   "outputs": [],
   "source": [
    "s1 = nlp(\"I don't know whether I want you.\")\n",
    "s2 = nlp(\"This is not the weather for it. I warned you.\")\n",
    "s3 = nlp(\"Today is an awful rainy day and I told you so.\")"
   ]
  },
  {
   "cell_type": "code",
   "execution_count": 13,
   "id": "e9d84bd0",
   "metadata": {},
   "outputs": [
    {
     "data": {
      "text/plain": [
       "0.7028740006299754"
      ]
     },
     "execution_count": 13,
     "metadata": {},
     "output_type": "execute_result"
    }
   ],
   "source": [
    "s1.similarity(s2)"
   ]
  },
  {
   "cell_type": "code",
   "execution_count": 14,
   "id": "85002902",
   "metadata": {},
   "outputs": [
    {
     "data": {
      "text/plain": [
       "float"
      ]
     },
     "execution_count": 14,
     "metadata": {},
     "output_type": "execute_result"
    }
   ],
   "source": [
    "type(s2.similarity(s3))"
   ]
  },
  {
   "cell_type": "code",
   "execution_count": 15,
   "id": "4f340913",
   "metadata": {},
   "outputs": [],
   "source": [
    "s1 = nlp(\"Computers, marvels of modernity, shape our digital world.Binary pulses dance within their silicon hearts.From simple calculators to vast networks, they serve.Codes weave intricate webs, bridging minds across miles.In circuits and algorithms, the future unfolds.\")\n",
    "s2 = nlp(\"Computers, wonders of the contemporary era, sculpt our digital realm. Within their silicon cores, binary rhythms pulsate. They fulfill roles from basic calculators to expansive networks. Through intricate coding, they connect minds over vast distances. In their circuits and algorithms, tomorrow takes form.\")\n",
    "s3 = nlp(\"Soccer, the beautiful game, unites nations on the field.With each kick and pass, a symphony of skill unfolds.Players chase the elusive goal, igniting fans' fervor.Pitch battles showcase talent, strategy, and sheer passion.In stadiums worldwide, soccer's spirit never wanes\")"
   ]
  },
  {
   "cell_type": "code",
   "execution_count": 16,
   "id": "9a7809b9",
   "metadata": {},
   "outputs": [
    {
     "data": {
      "text/plain": [
       "0.9880118592981554"
      ]
     },
     "execution_count": 16,
     "metadata": {},
     "output_type": "execute_result"
    }
   ],
   "source": [
    "s1.similarity(s2)"
   ]
  },
  {
   "cell_type": "code",
   "execution_count": 17,
   "id": "fe5ad944",
   "metadata": {},
   "outputs": [
    {
     "data": {
      "text/plain": [
       "0.9168615486642845"
      ]
     },
     "execution_count": 17,
     "metadata": {},
     "output_type": "execute_result"
    }
   ],
   "source": [
    "s1.similarity(s3)"
   ]
  },
  {
   "cell_type": "code",
   "execution_count": 18,
   "id": "1a1b8664",
   "metadata": {},
   "outputs": [],
   "source": [
    "s1 = nlp(\"I play footbal in this awful arena.\")\n",
    "s2 = nlp(\"I play the piano in this red room.\")\n",
    "s3 = nlp(\"I repair the piano in this ugly room.\")"
   ]
  },
  {
   "cell_type": "code",
   "execution_count": 19,
   "id": "0ab8a6d6",
   "metadata": {},
   "outputs": [
    {
     "data": {
      "text/plain": [
       "0.9338786610611302"
      ]
     },
     "execution_count": 19,
     "metadata": {},
     "output_type": "execute_result"
    }
   ],
   "source": [
    "s2.similarity(s3)"
   ]
  },
  {
   "cell_type": "markdown",
   "id": "028b44ab",
   "metadata": {},
   "source": [
    "Taking out the verbs, adjectives and nouns for s1, s2 and s3:"
   ]
  },
  {
   "cell_type": "code",
   "execution_count": 20,
   "id": "412ec3a1",
   "metadata": {},
   "outputs": [],
   "source": [
    "s1_verbs = \" \".join([token.lemma_ for token in s1 if token.pos_ == \"VERB\"])\n",
    "s1_adj = \" \".join([token.lemma_ for token in s1 if token.pos_ == \"ADJ\"])\n",
    "s1_nouns = \" \".join([token.lemma_ for token in s1 if token.pos_ == \"NOUN\"])"
   ]
  },
  {
   "cell_type": "code",
   "execution_count": 21,
   "id": "67a66f83",
   "metadata": {},
   "outputs": [
    {
     "data": {
      "text/plain": [
       "('play', 'awful', 'footbal arena')"
      ]
     },
     "execution_count": 21,
     "metadata": {},
     "output_type": "execute_result"
    }
   ],
   "source": [
    "s1_verbs, s1_adj, s1_nouns"
   ]
  },
  {
   "cell_type": "code",
   "execution_count": 22,
   "id": "4e096cea",
   "metadata": {},
   "outputs": [],
   "source": [
    "s2_verbs = \" \".join([token.lemma_ for token in s2 if token.pos_ == \"VERB\"])\n",
    "s2_adj = \" \".join([token.lemma_ for token in s2 if token.pos_ == \"ADJ\"])\n",
    "s2_nouns = \" \".join([token.lemma_ for token in s2 if token.pos_ == \"NOUN\"])"
   ]
  },
  {
   "cell_type": "code",
   "execution_count": 23,
   "id": "0cee558b",
   "metadata": {},
   "outputs": [
    {
     "data": {
      "text/plain": [
       "('play', 'red', 'piano room')"
      ]
     },
     "execution_count": 23,
     "metadata": {},
     "output_type": "execute_result"
    }
   ],
   "source": [
    "s2_verbs, s2_adj, s2_nouns"
   ]
  },
  {
   "cell_type": "code",
   "execution_count": 24,
   "id": "aac3fa61",
   "metadata": {},
   "outputs": [],
   "source": [
    "s3_verbs = \" \".join([token.lemma_ for token in s3 if token.pos_ == \"VERB\"])\n",
    "s3_adj = \" \".join([token.lemma_ for token in s3 if token.pos_ == \"ADJ\"])\n",
    "s3_nouns = \" \".join([token.lemma_ for token in s3 if token.pos_ == \"NOUN\"])"
   ]
  },
  {
   "cell_type": "code",
   "execution_count": 25,
   "id": "902333f0",
   "metadata": {},
   "outputs": [
    {
     "data": {
      "text/plain": [
       "('repair', 'ugly', 'piano room')"
      ]
     },
     "execution_count": 25,
     "metadata": {},
     "output_type": "execute_result"
    }
   ],
   "source": [
    "s3_verbs, s3_adj, s3_nouns"
   ]
  }
 ],
 "metadata": {
  "kernelspec": {
   "display_name": "Python 3 (ipykernel)",
   "language": "python",
   "name": "python3"
  },
  "language_info": {
   "codemirror_mode": {
    "name": "ipython",
    "version": 3
   },
   "file_extension": ".py",
   "mimetype": "text/x-python",
   "name": "python",
   "nbconvert_exporter": "python",
   "pygments_lexer": "ipython3",
   "version": "3.11.5"
  }
 },
 "nbformat": 4,
 "nbformat_minor": 5
}
